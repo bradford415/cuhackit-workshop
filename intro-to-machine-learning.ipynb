{
 "cells": [
  {
   "cell_type": "markdown",
   "id": "54488acc-c0b0-4b86-92b8-d8dc1b6cfb1f",
   "metadata": {},
   "source": [
    "# Introduction to Machine Learning\n",
    "\n",
    "Welcome to the Jupyter Notebook! Jupyter Notebooks are a web-based computational environment for multiple programming languages, and very widely used for Python. It provides a great interface for testing, visualizing and sharing Python code.\n",
    "\n",
    "Today, we will use Jupyter to introduce core machine learning concepts. No programming knowledge is required because you can simply run each cell.\n",
    "\n",
    "Use __shift+enter__ to navigate through the notebook."
   ]
  },
  {
   "cell_type": "code",
   "execution_count": null,
   "id": "f13a9c28-9fe3-45f6-a1d6-493948d765c8",
   "metadata": {},
   "outputs": [],
   "source": [
    "!pip install ipywidgets\n",
    "!pip install matplotlib\n",
    "!pip install numpy\n",
    "!pip install pandas\n",
    "!pip install seaborn\n",
    "!pip install sklearn\n",
    "!pip install scikit-learn\n",
    "!pip install scikit-image\n",
    "!pip install tensorflow"
   ]
  },
  {
   "cell_type": "code",
   "execution_count": null,
   "id": "eb792627-023a-411a-b28c-921fa8a283d0",
   "metadata": {},
   "outputs": [],
   "source": [
    "import ipywidgets\n",
    "import matplotlib.pyplot as plt\n",
    "import numpy as np\n",
    "import pandas as pd\n",
    "import seaborn as sns\n",
    "import sklearn\n",
    "import tensorflow as tf"
   ]
  },
  {
   "cell_type": "code",
   "execution_count": null,
   "id": "f6d1c34f-96a3-4b77-805a-e1dd401c39bf",
   "metadata": {},
   "outputs": [],
   "source": []
  }
 ],
 "metadata": {
  "kernelspec": {
   "display_name": "Python 3 (ipykernel)",
   "language": "python",
   "name": "python3"
  },
  "language_info": {
   "codemirror_mode": {
    "name": "ipython",
    "version": 3
   },
   "file_extension": ".py",
   "mimetype": "text/x-python",
   "name": "python",
   "nbconvert_exporter": "python",
   "pygments_lexer": "ipython3",
   "version": "3.9.10"
  }
 },
 "nbformat": 4,
 "nbformat_minor": 5
}
